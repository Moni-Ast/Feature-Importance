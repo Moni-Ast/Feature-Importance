{
 "cells": [
  {
   "cell_type": "markdown",
   "metadata": {},
   "source": [
    "## References:\n",
    "    \n",
    "https://towardsdatascience.com/shap-explained-the-way-i-wish-someone-explained-it-to-me-ab81cc69ef30 <br>\n",
    "https://towardsdatascience.com/explain-your-model-with-the-shap-values-bc36aac4de3d <br>\n",
    "https://christophm.github.io/interpretable-ml-book/shap.html#advantages-15 <br>\n",
    "https://afiodorov.github.io/2019/05/20/shap-values-explained/ <br>\n",
    "https://medium.com/dataman-in-ai/explain-your-model-with-lime-5a1a5867b423 "
   ]
  },
  {
   "cell_type": "code",
   "execution_count": 1,
   "metadata": {},
   "outputs": [],
   "source": [
    "import pandas as pd\n",
    "import numpy as np"
   ]
  },
  {
   "cell_type": "markdown",
   "metadata": {},
   "source": [
    "## SHAP values --> SHapley Additive exPlanations\n",
    "\n",
    "- SHAP values - understand how they are generated\n",
    "- Build SHAP values from scratch\n",
    "- Use cases of SHAP values\n",
    "    - What do we use them for?\n",
    "    - What are they not used for?\n",
    "- How are SHAP values different from other feature importance techniques?\n",
    "- ELI5 package"
   ]
  },
  {
   "cell_type": "markdown",
   "metadata": {},
   "source": [
    "##### State of the art in ML explainability. This algorithm was first published in 2017 by Lundberg and Lee. Used whenever we have a complex model and we want to understand what decisions the model is making.\n",
    "\n",
    "##### Understanding the idea behind the calculation of SHAP values is crucial to make sense of a model outcome. "
   ]
  },
  {
   "cell_type": "markdown",
   "metadata": {},
   "source": [
    "## Game Theory\n",
    "\n",
    "##### SHAP values are based on Shapley values, a concept coming from game theory. <br> Game theory is the study of mathematical models of strategic interaction among rational decision makers. It has applications in all fields of social science, as well as in logic, system science and computer science. The process of modelling strategic interaction between two or more players in a situation containing set rules and outcomes. \n",
    "\n",
    "Ex: Prisonoer's dilemma - two suspects for a crime - they can either testify against each other or confess they have both done the crime - the best strategy for them is to not confess but most rational people prefer to confess and testify against the other person than stay silent and take the chance the other party confesses\n",
    "\n",
    "<img src=\"images/prisoners-dilemma.png\" width=\"500\" />\n",
    "\n",
    "##### Game theory needs at least two things: a game and some players. How does this apply to machine learning explainability? Imagine that we have a predictive model, then:\n",
    "\n",
    "- the game is reproducing the outcome of the model \n",
    "- the players are the features included in the model\n",
    "\n",
    "##### What Shapley values do is quantifying the contribution that each player brings to the game. Equally, SHAP values are quantifying the contribution that each feature brings to the prediction made by the model. "
   ]
  },
  {
   "cell_type": "markdown",
   "metadata": {},
   "source": [
    "## Mathematical explanation"
   ]
  },
  {
   "cell_type": "markdown",
   "metadata": {},
   "source": [
    "#### Imagine a model that predicts the income of a person knowing age, gender and job of the person. \n",
    "- Shapley values - the outcome of each possible combination (or coalition) of players should be considered to determine the importance of a single player\n",
    "- SHAP values - in our case, this corresponds to each possible combination of features called 'power set' (f going from 0 to F, F being the number of all features available, in our example 3)\n",
    "\n",
    "<img src=\"images/power-set.png\" width=\"500\" />\n",
    "\n",
    "##### Each node is a coalition of features. Each edge represents the inclusion of a feature not present in the previous coalition. There are 8 possible combinations of features.\n",
    "\n",
    "Now, SHAP requires to train a model for each coalition in the power set. These models have the same hyperparameters and are trained on the same data. The only thing that changes is the set of features in the model.\n",
    "\n",
    "Let us imagine that we have trained our 8 models. We take a new observation (x0) and see what the 8 different models predict for the same observation. <br> Each node represents a model. But what do edges represent?\n",
    "\n",
    "<img src=\"images/power-set-1.png\" width=\"500\" />\n",
    "\n",
    "One node is a combination of the two upper nodes linked to it. Therefore, the difference between the predictions of two connected nodes can be imputed to the effect of that additional feature. This is called 'marginal contribution' of a feature. \n",
    "\n",
    "Therefore, each edge represents the marginal contribution brought by a feature to a model. \n",
    "\n",
    "Imagine we are in node 1, which is the model with no features. This model will simply predict the average income of all the training observations (50K). If we move to node 2, which is a model with just 1 feture (Age), the prediction for x0 is now 40K. This means that knowing the age of x0 has lowered our prediction by 10K. Thus, the marginal contribution brought by Age to the model containing only Age as a feature is -10K. \n",
    "\n",
    "<img src=\"images/marginal-contribution-formula.png\" width=\"500\" />\n",
    "\n",
    "To obtin the overall effect of Age on the final model it is necessary to consider the marginal contribution of Age in all the model where Age is present. In our tree representation, this means to consider all the edges connecting two nodes such that\n",
    "- the upper one does not contain Age, and\n",
    "- the bottom one contains Age\n",
    "\n",
    "<img src=\"images/power-set-2.png\" width=\"500\" />\n",
    "\n",
    "All these marginal contributions are then aggregated through a weighted average:\n",
    "\n",
    "<img src=\"images/age-contribution.png\" width=\"500\" />\n",
    "\n",
    "where w1 + w2 + w3 + w4 = 1\n",
    "\n",
    "How do we determine the weights of the edges (i.e. of the marginal contributions of Age in the 4 models)? "
   ]
  },
  {
   "cell_type": "markdown",
   "metadata": {},
   "source": [
    "#### 3 things to consider:\n",
    "\n",
    "    - the sum of the weights of all the marginal contributions to 1 feature models should equal the sum of the weights of all the marginal contributions to 2 feature models and so on ... In other words, the sum of all the weights on the same row should equal the sum of all the weights on any other row\n",
    "    w1 = w2 + w3 = w4\n",
    "    - all the weights of marginal contributions to f feature models should equal to each other, for each f. In other words, all the edges on the same row should equal to each other. \n",
    "    w2 = w3\n",
    "    - weights should add up to 1\n",
    "    \n",
    "Hence, the solution to the above example is: w1 = 1/3, w2 = w3 = 1/6, w4 = 1/3\n",
    "\n",
    "The weight of an edge is the reciprocal of the total number of edges in the same row. Or, equivalently, the weight of a marginal contribution to a f-feature model is the reciprocal of the number of possible marginal contributions to all the f-feature models. \n",
    "\n",
    "How do we calculate them?\n",
    "\n",
    "<img src=\"images/power-set-3.png\" width=\"500\" />\n",
    "\n",
    "The way it works is for each level of the diagram (f-feature set) we multiply the number of possible models by the number of unique features per model and we take the reciprocal of this.\n",
    "\n",
    "<img src=\"images/age-contribution-1.png\" width=\"500\" />"
   ]
  },
  {
   "cell_type": "markdown",
   "metadata": {},
   "source": [
    "## Generalized Formula\n",
    "\n",
    "<img src=\"images/generalized-formula.png\" width=\"500\" />\n",
    "\n",
    "Applying the formula, it yields:\n",
    "- SHAP of age = -11.33K\n",
    "- SHAP of Gender = - 2.33K\n",
    "- SHAP of Job = +46.66K\n",
    "\n",
    "Summing them up gives +33K, which is exactly the difference between the output of the full model (83K) and the output of the dummy model with no features (50K).\n",
    "\n",
    "##### This is a fundamental characteristic of SHAP values - summing the SHAP values of each feature of a given observation yields the difference between the prediction of the model and the null model. This is the reason for their name SHapley Additive exPlanations"
   ]
  },
  {
   "cell_type": "markdown",
   "metadata": {},
   "source": [
    "## Benefits\n",
    "\n",
    "**1. Global interpretability** - the collective SHAP values can show how much each predictor contributes, each positively or negatively, to the target variable; <br>\n",
    "**2. Local interpretability** - each observation gets its own set of SHAP values <br>\n",
    "**3. SHAP values can be used to explain a large variety of models including linear models, tree-based models, and neural networks, while other techniques can only be used to explain limited model types** <br>"
   ]
  },
  {
   "cell_type": "markdown",
   "metadata": {},
   "source": [
    "## Example - Titanic dataset\n",
    "https://app.box.com/s/zrpzj8zw35zbs8njcij40gy45gcgwsyl"
   ]
  },
  {
   "cell_type": "code",
   "execution_count": 3,
   "metadata": {},
   "outputs": [
    {
     "data": {
      "text/html": [
       "<div>\n",
       "<style scoped>\n",
       "    .dataframe tbody tr th:only-of-type {\n",
       "        vertical-align: middle;\n",
       "    }\n",
       "\n",
       "    .dataframe tbody tr th {\n",
       "        vertical-align: top;\n",
       "    }\n",
       "\n",
       "    .dataframe thead th {\n",
       "        text-align: right;\n",
       "    }\n",
       "</style>\n",
       "<table border=\"1\" class=\"dataframe\">\n",
       "  <thead>\n",
       "    <tr style=\"text-align: right;\">\n",
       "      <th></th>\n",
       "      <th>PassengerId</th>\n",
       "      <th>Survived</th>\n",
       "      <th>Pclass</th>\n",
       "      <th>Name</th>\n",
       "      <th>Sex</th>\n",
       "      <th>Age</th>\n",
       "      <th>SibSp</th>\n",
       "      <th>Parch</th>\n",
       "      <th>Ticket</th>\n",
       "      <th>Fare</th>\n",
       "      <th>Cabin</th>\n",
       "      <th>Embarked</th>\n",
       "    </tr>\n",
       "  </thead>\n",
       "  <tbody>\n",
       "    <tr>\n",
       "      <th>0</th>\n",
       "      <td>1</td>\n",
       "      <td>0</td>\n",
       "      <td>3</td>\n",
       "      <td>Braund, Mr. Owen Harris</td>\n",
       "      <td>male</td>\n",
       "      <td>22.0</td>\n",
       "      <td>1</td>\n",
       "      <td>0</td>\n",
       "      <td>A/5 21171</td>\n",
       "      <td>7.2500</td>\n",
       "      <td>NaN</td>\n",
       "      <td>S</td>\n",
       "    </tr>\n",
       "    <tr>\n",
       "      <th>1</th>\n",
       "      <td>2</td>\n",
       "      <td>1</td>\n",
       "      <td>1</td>\n",
       "      <td>Cumings, Mrs. John Bradley (Florence Briggs Th...</td>\n",
       "      <td>female</td>\n",
       "      <td>38.0</td>\n",
       "      <td>1</td>\n",
       "      <td>0</td>\n",
       "      <td>PC 17599</td>\n",
       "      <td>71.2833</td>\n",
       "      <td>C85</td>\n",
       "      <td>C</td>\n",
       "    </tr>\n",
       "    <tr>\n",
       "      <th>2</th>\n",
       "      <td>3</td>\n",
       "      <td>1</td>\n",
       "      <td>3</td>\n",
       "      <td>Heikkinen, Miss. Laina</td>\n",
       "      <td>female</td>\n",
       "      <td>26.0</td>\n",
       "      <td>0</td>\n",
       "      <td>0</td>\n",
       "      <td>STON/O2. 3101282</td>\n",
       "      <td>7.9250</td>\n",
       "      <td>NaN</td>\n",
       "      <td>S</td>\n",
       "    </tr>\n",
       "    <tr>\n",
       "      <th>3</th>\n",
       "      <td>4</td>\n",
       "      <td>1</td>\n",
       "      <td>1</td>\n",
       "      <td>Futrelle, Mrs. Jacques Heath (Lily May Peel)</td>\n",
       "      <td>female</td>\n",
       "      <td>35.0</td>\n",
       "      <td>1</td>\n",
       "      <td>0</td>\n",
       "      <td>113803</td>\n",
       "      <td>53.1000</td>\n",
       "      <td>C123</td>\n",
       "      <td>S</td>\n",
       "    </tr>\n",
       "    <tr>\n",
       "      <th>4</th>\n",
       "      <td>5</td>\n",
       "      <td>0</td>\n",
       "      <td>3</td>\n",
       "      <td>Allen, Mr. William Henry</td>\n",
       "      <td>male</td>\n",
       "      <td>35.0</td>\n",
       "      <td>0</td>\n",
       "      <td>0</td>\n",
       "      <td>373450</td>\n",
       "      <td>8.0500</td>\n",
       "      <td>NaN</td>\n",
       "      <td>S</td>\n",
       "    </tr>\n",
       "  </tbody>\n",
       "</table>\n",
       "</div>"
      ],
      "text/plain": [
       "   PassengerId  Survived  Pclass  \\\n",
       "0            1         0       3   \n",
       "1            2         1       1   \n",
       "2            3         1       3   \n",
       "3            4         1       1   \n",
       "4            5         0       3   \n",
       "\n",
       "                                                Name     Sex   Age  SibSp  \\\n",
       "0                            Braund, Mr. Owen Harris    male  22.0      1   \n",
       "1  Cumings, Mrs. John Bradley (Florence Briggs Th...  female  38.0      1   \n",
       "2                             Heikkinen, Miss. Laina  female  26.0      0   \n",
       "3       Futrelle, Mrs. Jacques Heath (Lily May Peel)  female  35.0      1   \n",
       "4                           Allen, Mr. William Henry    male  35.0      0   \n",
       "\n",
       "   Parch            Ticket     Fare Cabin Embarked  \n",
       "0      0         A/5 21171   7.2500   NaN        S  \n",
       "1      0          PC 17599  71.2833   C85        C  \n",
       "2      0  STON/O2. 3101282   7.9250   NaN        S  \n",
       "3      0            113803  53.1000  C123        S  \n",
       "4      0            373450   8.0500   NaN        S  "
      ]
     },
     "execution_count": 3,
     "metadata": {},
     "output_type": "execute_result"
    }
   ],
   "source": [
    "data=pd.read_csv('data\\\\titanic_survival.csv')\n",
    "\n",
    "data.head()"
   ]
  },
  {
   "cell_type": "code",
   "execution_count": 4,
   "metadata": {},
   "outputs": [],
   "source": [
    "X = data[['Sex','Age','Fare','Pclass']].copy()\n",
    "y = data['Survived'].copy()"
   ]
  },
  {
   "cell_type": "code",
   "execution_count": 5,
   "metadata": {},
   "outputs": [
    {
     "data": {
      "text/html": [
       "<div>\n",
       "<style scoped>\n",
       "    .dataframe tbody tr th:only-of-type {\n",
       "        vertical-align: middle;\n",
       "    }\n",
       "\n",
       "    .dataframe tbody tr th {\n",
       "        vertical-align: top;\n",
       "    }\n",
       "\n",
       "    .dataframe thead th {\n",
       "        text-align: right;\n",
       "    }\n",
       "</style>\n",
       "<table border=\"1\" class=\"dataframe\">\n",
       "  <thead>\n",
       "    <tr style=\"text-align: right;\">\n",
       "      <th></th>\n",
       "      <th>Age</th>\n",
       "      <th>Fare</th>\n",
       "      <th>Pclass</th>\n",
       "      <th>Sex</th>\n",
       "    </tr>\n",
       "  </thead>\n",
       "  <tbody>\n",
       "    <tr>\n",
       "      <th>0</th>\n",
       "      <td>22.0</td>\n",
       "      <td>7.2500</td>\n",
       "      <td>3</td>\n",
       "      <td>1</td>\n",
       "    </tr>\n",
       "    <tr>\n",
       "      <th>1</th>\n",
       "      <td>38.0</td>\n",
       "      <td>71.2833</td>\n",
       "      <td>1</td>\n",
       "      <td>0</td>\n",
       "    </tr>\n",
       "  </tbody>\n",
       "</table>\n",
       "</div>"
      ],
      "text/plain": [
       "    Age     Fare  Pclass  Sex\n",
       "0  22.0   7.2500       3    1\n",
       "1  38.0  71.2833       1    0"
      ]
     },
     "execution_count": 5,
     "metadata": {},
     "output_type": "execute_result"
    }
   ],
   "source": [
    "from sklearn.preprocessing import LabelEncoder\n",
    "\n",
    "le = LabelEncoder()\n",
    "le.fit(X['Sex'])\n",
    "mappping_sex = dict(zip(le.classes_, le.transform(le.classes_)))\n",
    "\n",
    "encode_cols = ['Sex']\n",
    "encoded_df = X[encode_cols]\n",
    "encoded_df = encoded_df.astype('str')\n",
    "encoded_df = encoded_df.apply(le.fit_transform)\n",
    "\n",
    "# drop original cols\n",
    "num_df = X.drop(encode_cols, axis = 1)\n",
    "X_ = pd.concat([num_df, encoded_df], axis = 1)\n",
    "\n",
    "X_[:2]"
   ]
  },
  {
   "cell_type": "code",
   "execution_count": 6,
   "metadata": {},
   "outputs": [],
   "source": [
    "# train test split\n",
    "from sklearn.model_selection import train_test_split\n",
    "\n",
    "X_train, X_test, y_train, y_test = train_test_split(X_, y, test_size=0.2, stratify = y, random_state=342)"
   ]
  },
  {
   "cell_type": "code",
   "execution_count": 8,
   "metadata": {},
   "outputs": [
    {
     "name": "stderr",
     "output_type": "stream",
     "text": [
      "The use of label encoder in XGBClassifier is deprecated and will be removed in a future release. To remove this warning, do the following: 1) Pass option use_label_encoder=False when constructing XGBClassifier object; and 2) Encode your labels (y) as integers starting with 0, i.e. 0, 1, 2, ..., [num_class - 1].\n"
     ]
    },
    {
     "name": "stdout",
     "output_type": "stream",
     "text": [
      "[13:26:13] WARNING: C:/Users/Administrator/workspace/xgboost-win64_release_1.3.0/src/learner.cc:1061: Starting in XGBoost 1.3.0, the default evaluation metric used with the objective 'binary:logistic' was changed from 'error' to 'logloss'. Explicitly set eval_metric if you'd like to restore the old behavior.\n"
     ]
    }
   ],
   "source": [
    "import shap\n",
    "import xgboost as xgb\n",
    "\n",
    "model = xgb.XGBClassifier(objective='binary:logistic', use_label_encoder=True)\n",
    "model.fit(X_train, y_train)\n",
    "\n",
    "explainer = shap.TreeExplainer(model)\n",
    "shap_values = explainer.shap_values(X_)"
   ]
  },
  {
   "cell_type": "code",
   "execution_count": 9,
   "metadata": {},
   "outputs": [
    {
     "data": {
      "text/html": [
       "<div>\n",
       "<style scoped>\n",
       "    .dataframe tbody tr th:only-of-type {\n",
       "        vertical-align: middle;\n",
       "    }\n",
       "\n",
       "    .dataframe tbody tr th {\n",
       "        vertical-align: top;\n",
       "    }\n",
       "\n",
       "    .dataframe thead th {\n",
       "        text-align: right;\n",
       "    }\n",
       "</style>\n",
       "<table border=\"1\" class=\"dataframe\">\n",
       "  <thead>\n",
       "    <tr style=\"text-align: right;\">\n",
       "      <th></th>\n",
       "      <th>Age</th>\n",
       "      <th>Fare</th>\n",
       "      <th>Pclass</th>\n",
       "      <th>Sex</th>\n",
       "    </tr>\n",
       "  </thead>\n",
       "  <tbody>\n",
       "    <tr>\n",
       "      <th>0</th>\n",
       "      <td>0.230287</td>\n",
       "      <td>-0.204494</td>\n",
       "      <td>-0.666080</td>\n",
       "      <td>-1.292605</td>\n",
       "    </tr>\n",
       "    <tr>\n",
       "      <th>1</th>\n",
       "      <td>-0.359401</td>\n",
       "      <td>1.144247</td>\n",
       "      <td>2.361894</td>\n",
       "      <td>3.184605</td>\n",
       "    </tr>\n",
       "    <tr>\n",
       "      <th>2</th>\n",
       "      <td>-1.239497</td>\n",
       "      <td>-0.215643</td>\n",
       "      <td>-1.048865</td>\n",
       "      <td>1.374610</td>\n",
       "    </tr>\n",
       "    <tr>\n",
       "      <th>3</th>\n",
       "      <td>0.889444</td>\n",
       "      <td>1.455990</td>\n",
       "      <td>2.675308</td>\n",
       "      <td>2.767875</td>\n",
       "    </tr>\n",
       "    <tr>\n",
       "      <th>4</th>\n",
       "      <td>-0.753999</td>\n",
       "      <td>-0.001415</td>\n",
       "      <td>-0.892893</td>\n",
       "      <td>-0.699495</td>\n",
       "    </tr>\n",
       "    <tr>\n",
       "      <th>...</th>\n",
       "      <td>...</td>\n",
       "      <td>...</td>\n",
       "      <td>...</td>\n",
       "      <td>...</td>\n",
       "    </tr>\n",
       "    <tr>\n",
       "      <th>886</th>\n",
       "      <td>0.290237</td>\n",
       "      <td>0.111424</td>\n",
       "      <td>-0.636013</td>\n",
       "      <td>-1.489475</td>\n",
       "    </tr>\n",
       "    <tr>\n",
       "      <th>887</th>\n",
       "      <td>0.036965</td>\n",
       "      <td>0.101901</td>\n",
       "      <td>3.706076</td>\n",
       "      <td>3.455350</td>\n",
       "    </tr>\n",
       "    <tr>\n",
       "      <th>888</th>\n",
       "      <td>0.820689</td>\n",
       "      <td>0.369371</td>\n",
       "      <td>-1.675505</td>\n",
       "      <td>1.291918</td>\n",
       "    </tr>\n",
       "    <tr>\n",
       "      <th>889</th>\n",
       "      <td>0.890144</td>\n",
       "      <td>0.286097</td>\n",
       "      <td>2.725407</td>\n",
       "      <td>-0.813459</td>\n",
       "    </tr>\n",
       "    <tr>\n",
       "      <th>890</th>\n",
       "      <td>0.417399</td>\n",
       "      <td>-0.766649</td>\n",
       "      <td>-0.693751</td>\n",
       "      <td>-0.606511</td>\n",
       "    </tr>\n",
       "  </tbody>\n",
       "</table>\n",
       "<p>891 rows × 4 columns</p>\n",
       "</div>"
      ],
      "text/plain": [
       "          Age      Fare    Pclass       Sex\n",
       "0    0.230287 -0.204494 -0.666080 -1.292605\n",
       "1   -0.359401  1.144247  2.361894  3.184605\n",
       "2   -1.239497 -0.215643 -1.048865  1.374610\n",
       "3    0.889444  1.455990  2.675308  2.767875\n",
       "4   -0.753999 -0.001415 -0.892893 -0.699495\n",
       "..        ...       ...       ...       ...\n",
       "886  0.290237  0.111424 -0.636013 -1.489475\n",
       "887  0.036965  0.101901  3.706076  3.455350\n",
       "888  0.820689  0.369371 -1.675505  1.291918\n",
       "889  0.890144  0.286097  2.725407 -0.813459\n",
       "890  0.417399 -0.766649 -0.693751 -0.606511\n",
       "\n",
       "[891 rows x 4 columns]"
      ]
     },
     "execution_count": 9,
     "metadata": {},
     "output_type": "execute_result"
    }
   ],
   "source": [
    "# shap values represent how much this feature contributes to the output of this row's prediction\n",
    "# positive shap values mean positive impact on prediction, leading the model to predict 1\n",
    "# negative shap values mean negative impact, leading the model to predict 0\n",
    "shap_df = pd.DataFrame(shap_values, columns=X_.columns)\n",
    "shap_df"
   ]
  },
  {
   "cell_type": "markdown",
   "metadata": {},
   "source": [
    "**Globsl interpretability**"
   ]
  },
  {
   "cell_type": "code",
   "execution_count": 27,
   "metadata": {},
   "outputs": [
    {
     "data": {
      "text/plain": [
       "Age       0.907883\n",
       "Fare      1.005404\n",
       "Pclass    1.201607\n",
       "Sex       1.581139\n",
       "dtype: float32"
      ]
     },
     "execution_count": 27,
     "metadata": {},
     "output_type": "execute_result"
    }
   ],
   "source": [
    "np.mean(abs(shap_df))"
   ]
  },
  {
   "cell_type": "code",
   "execution_count": 28,
   "metadata": {},
   "outputs": [
    {
     "data": {
      "image/png": "[encoded data removed]",
      "text/plain": [
       "<Figure size 576x223.2 with 1 Axes>"
      ]
     },
     "metadata": {
      "needs_background": "light"
     },
     "output_type": "display_data"
    }
   ],
   "source": [
    "shap.summary_plot(shap_values, X_, plot_type='bar')"
   ]
  },
  {
   "cell_type": "code",
   "execution_count": 29,
   "metadata": {},
   "outputs": [
    {
     "data": {
      "image/png": "[encoded data removed]",
      "text/plain": [
       "<Figure size 576x223.2 with 2 Axes>"
      ]
     },
     "metadata": {
      "needs_background": "light"
     },
     "output_type": "display_data"
    }
   ],
   "source": [
    "shap.summary_plot(shap_values, X_)"
   ]
  },
  {
   "cell_type": "code",
   "execution_count": 34,
   "metadata": {},
   "outputs": [
    {
     "data": {
      "text/plain": [
       "5.1298037"
      ]
     },
     "execution_count": 34,
     "metadata": {},
     "output_type": "execute_result"
    }
   ],
   "source": [
    "shap_df['Age'].max()"
   ]
  },
  {
   "cell_type": "markdown",
   "metadata": {},
   "source": [
    "**Local interpretability**"
   ]
  },
  {
   "cell_type": "code",
   "execution_count": 60,
   "metadata": {},
   "outputs": [
    {
     "data": {
      "text/plain": [
       "-0.6339694"
      ]
     },
     "execution_count": 60,
     "metadata": {},
     "output_type": "execute_result"
    }
   ],
   "source": [
    "explainer.expected_value"
   ]
  },
  {
   "cell_type": "code",
   "execution_count": 54,
   "metadata": {},
   "outputs": [
    {
     "data": {
      "image/png": "[encoded data removed]",
      "text/plain": [
       "<Figure size 1440x216 with 1 Axes>"
      ]
     },
     "metadata": {
      "needs_background": "light"
     },
     "output_type": "display_data"
    }
   ],
   "source": [
    "shap.force_plot(explainer.expected_value, shap_df.loc[0].values, X_.loc[0], matplotlib=True)"
   ]
  },
  {
   "cell_type": "code",
   "execution_count": 68,
   "metadata": {},
   "outputs": [
    {
     "data": {
      "text/plain": [
       "Age       29.699118\n",
       "Fare      32.204208\n",
       "Pclass     2.308642\n",
       "Sex        0.647587\n",
       "dtype: float64"
      ]
     },
     "execution_count": 68,
     "metadata": {},
     "output_type": "execute_result"
    }
   ],
   "source": [
    "# from the global interpretability we see Age has a -ve relationship with survival - hence, if the Age of the obs < the mean age, the likelihood of survival will increase\n",
    "X_.mean()"
   ]
  },
  {
   "cell_type": "code",
   "execution_count": 61,
   "metadata": {},
   "outputs": [
    {
     "name": "stdout",
     "output_type": "stream",
     "text": [
      "Probability of a survival is 0.07109430408428717\n",
      "\n",
      "The mean prediction for the whole dataset is 0.34661103968162293\n"
     ]
    }
   ],
   "source": [
    "# log-odds given by the waterfall plot\n",
    "base_value = explainer.expected_value\n",
    "pred_value = -2.57\n",
    "\n",
    "# transform to probabilities\n",
    "prob_of_1 = np.exp(pred_value)/(1+np.exp(pred_value))\n",
    "print(f'Probability of a survival is {prob_of_1}\\n')\n",
    "\n",
    "# mean probability of 1 for the whole dataset\n",
    "mean_prob = np.exp(base_value)/(1+np.exp(base_value))\n",
    "print(f'The mean prediction for the whole dataset is {mean_prob}')"
   ]
  },
  {
   "cell_type": "code",
   "execution_count": 63,
   "metadata": {},
   "outputs": [
    {
     "data": {
      "text/plain": [
       "(0.3838383838383838, 0.38342696629213485, 0.3854748603351955)"
      ]
     },
     "execution_count": 63,
     "metadata": {},
     "output_type": "execute_result"
    }
   ],
   "source": [
    "# mean prediction\n",
    "y.mean(), y_train.mean(), y_test.mean()"
   ]
  },
  {
   "cell_type": "markdown",
   "metadata": {},
   "source": [
    "### Manually estimate shap values for 1st observation"
   ]
  },
  {
   "cell_type": "code",
   "execution_count": 10,
   "metadata": {},
   "outputs": [
    {
     "data": {
      "text/plain": [
       "Age       0.230287\n",
       "Fare     -0.204494\n",
       "Pclass   -0.666080\n",
       "Sex      -1.292605\n",
       "Name: 0, dtype: float32"
      ]
     },
     "execution_count": 10,
     "metadata": {},
     "output_type": "execute_result"
    }
   ],
   "source": [
    "shap_df.loc[0]"
   ]
  },
  {
   "cell_type": "code",
   "execution_count": 11,
   "metadata": {},
   "outputs": [
    {
     "data": {
      "text/plain": [
       "Age       22.00\n",
       "Fare       7.25\n",
       "Pclass     3.00\n",
       "Sex        1.00\n",
       "Name: 0, dtype: float64"
      ]
     },
     "execution_count": 11,
     "metadata": {},
     "output_type": "execute_result"
    }
   ],
   "source": [
    "X_.loc[0]"
   ]
  },
  {
   "cell_type": "markdown",
   "metadata": {},
   "source": [
    "**Contribution of Age on the 1st sample**"
   ]
  },
  {
   "cell_type": "code",
   "execution_count": 12,
   "metadata": {},
   "outputs": [
    {
     "data": {
      "text/plain": [
       "array([[0.9286982, 0.0713018]], dtype=float32)"
      ]
     },
     "execution_count": 12,
     "metadata": {},
     "output_type": "execute_result"
    }
   ],
   "source": [
    "# prediction\n",
    "model.predict_proba(X_[:1])"
   ]
  },
  {
   "cell_type": "code",
   "execution_count": 13,
   "metadata": {},
   "outputs": [
    {
     "data": {
      "text/plain": [
       "0.5"
      ]
     },
     "execution_count": 13,
     "metadata": {},
     "output_type": "execute_result"
    }
   ],
   "source": [
    "# average prediction = 0.5 when there are no features in the dataset or f=0\n",
    "\n",
    "avg_pred = model.predict_proba(X_).mean()\n",
    "avg_pred"
   ]
  },
  {
   "cell_type": "code",
   "execution_count": 14,
   "metadata": {},
   "outputs": [
    {
     "data": {
      "text/plain": [
       "16"
      ]
     },
     "execution_count": 14,
     "metadata": {},
     "output_type": "execute_result"
    }
   ],
   "source": [
    "# We are going to build 2^4 models where 4 is the number of features\n",
    "n_models = 2**4\n",
    "n_models"
   ]
  },
  {
   "cell_type": "code",
   "execution_count": 28,
   "metadata": {},
   "outputs": [
    {
     "name": "stdout",
     "output_type": "stream",
     "text": [
      "Contribution of a model with Age only: 0.08488190174102783\n"
     ]
    }
   ],
   "source": [
    "# when f=1 we have got 1-feature models x 4 as we have 4 features\n",
    "\n",
    "w1 = 1/4\n",
    "\n",
    "# contribution of a model with Age only\n",
    "model = xgb.XGBClassifier(objective='binary:logistic', use_label_encoder=True, eval_metric='logloss')\n",
    "model_age = model.fit(X_train[['Age']], y_train)\n",
    "\n",
    "mc_age = model_age.predict_proba(X_[['Age']][:1])[0][0] - avg_pred\n",
    "print(f'Contribution of a model with Age only: {mc_age}')"
   ]
  },
  {
   "cell_type": "code",
   "execution_count": 29,
   "metadata": {},
   "outputs": [
    {
     "name": "stdout",
     "output_type": "stream",
     "text": [
      "Contribution of a model with Age and Sex only: 0.4054208993911743\n",
      "Contribution of a model with Age and Fare only: 0.19112354516983032\n",
      "Contribution of a model with Age and Pclass only: 0.23576092720031738\n"
     ]
    }
   ],
   "source": [
    "# when f=2 we have got 2-feature models x 3  \n",
    "\n",
    "w2 = w3 = w4 = 1/12 # 2*6 = 12 where 2 is the number of features in each model and 6 is the number of models\n",
    "\n",
    "model_age_sex = model.fit(X_train[['Age','Sex']], y_train)\n",
    "mc_age_sex = model_age_sex.predict_proba(X_[['Age','Sex']][:1])[0][0] - avg_pred\n",
    "print(f'Contribution of a model with Age and Sex only: {mc_age_sex}')\n",
    "\n",
    "model_age_fare = model.fit(X_train[['Age','Fare']], y_train)\n",
    "mc_age_fare = model_age_fare.predict_proba(X_[['Age','Fare']][:1])[0][0] - avg_pred\n",
    "print(f'Contribution of a model with Age and Fare only: {mc_age_fare}')\n",
    "\n",
    "model_age_pclass = model.fit(X_train[['Age','Pclass']], y_train)\n",
    "mc_age_pclass = model_age_pclass.predict_proba(X_[['Age','Pclass']][:1])[0][0] - avg_pred\n",
    "print(f'Contribution of a model with Age and Pclass only: {mc_age_pclass}')"
   ]
  },
  {
   "cell_type": "code",
   "execution_count": 30,
   "metadata": {},
   "outputs": [
    {
     "name": "stdout",
     "output_type": "stream",
     "text": [
      "Contribution of a model with Age and Sex only: 0.4598519802093506\n",
      "Contribution of a model with Age and Fare only: 0.176971435546875\n",
      "Contribution of a model with Age and Pclass only: 0.3958383798599243\n"
     ]
    }
   ],
   "source": [
    "# when f=3 we have got 3-feature models x 3\n",
    "\n",
    "w5 = w6 = w7 = 1/12 # 3*4 = 12 where 3 is the number of features in each model and 4 is the number of models\n",
    "\n",
    "model_age_sex_fare = model.fit(X_train[['Age','Sex','Fare']], y_train)\n",
    "mc_age_sex_fare = model_age_sex_fare.predict_proba(X_[['Age','Sex','Fare']][:1])[0][0] - avg_pred\n",
    "print(f'Contribution of a model with Age and Sex only: {mc_age_sex_fare}')\n",
    "\n",
    "model_age_fare_pclass = model.fit(X_train[['Age','Fare','Pclass']], y_train)\n",
    "mc_age_fare_pclass = model_age_fare_pclass.predict_proba(X_[['Age','Fare','Pclass']][:1])[0][0] - avg_pred\n",
    "print(f'Contribution of a model with Age and Fare only: {mc_age_fare_pclass}')\n",
    "\n",
    "model_age_pclass_sex = model.fit(X_train[['Age','Pclass','Sex']], y_train)\n",
    "mc_age_pclass_sex = model_age_pclass_sex.predict_proba(X_[['Age','Pclass','Sex']][:1])[0][0] - avg_pred\n",
    "print(f'Contribution of a model with Age and Pclass only: {mc_age_pclass_sex}')"
   ]
  },
  {
   "cell_type": "code",
   "execution_count": 31,
   "metadata": {},
   "outputs": [
    {
     "name": "stdout",
     "output_type": "stream",
     "text": [
      "Contribution of a model with Age and Sex only: 0.42869818210601807\n"
     ]
    }
   ],
   "source": [
    "# when f=4 we have got 4-feature models x 1\n",
    "\n",
    "w8 = 1/4 # 1*4 = 4 where 4 is the number of features in each model and 1 is the number of models\n",
    "\n",
    "model_all = model.fit(X_train, y_train)\n",
    "mc_all = model_all.predict_proba(X_[:1])[0][0] - avg_pred\n",
    "print(f'Contribution of a model with Age and Sex only: {mc_all}')"
   ]
  },
  {
   "cell_type": "code",
   "execution_count": 32,
   "metadata": {},
   "outputs": [
    {
     "data": {
      "text/plain": [
       "0.2602355728546778"
      ]
     },
     "execution_count": 32,
     "metadata": {},
     "output_type": "execute_result"
    }
   ],
   "source": [
    "w1*mc_age + w2*mc_age_sex + w3*mc_age_fare + w4*mc_age_pclass + w5*mc_age_fare_pclass + w6*mc_age_fare_pclass + w7*mc_age_pclass_sex +w8*mc_all"
   ]
  },
  {
   "cell_type": "code",
   "execution_count": 33,
   "metadata": {},
   "outputs": [
    {
     "data": {
      "text/plain": [
       "Age       0.230287\n",
       "Fare     -0.204494\n",
       "Pclass   -0.666080\n",
       "Sex      -1.292605\n",
       "Name: 0, dtype: float32"
      ]
     },
     "execution_count": 33,
     "metadata": {},
     "output_type": "execute_result"
    }
   ],
   "source": [
    "# manual estimated SHAP value for Age and the first instance is very clause to what we get as a shap value with the shap package\n",
    "shap_df.loc[0]"
   ]
  },
  {
   "cell_type": "code",
   "execution_count": 21,
   "metadata": {},
   "outputs": [
    {
     "data": {
      "text/plain": [
       "1.0"
      ]
     },
     "execution_count": 21,
     "metadata": {},
     "output_type": "execute_result"
    }
   ],
   "source": [
    "# sum of weights has to be 1\n",
    "w1+w2+w3+w4+w5+w6+w7+w8"
   ]
  },
  {
   "cell_type": "markdown",
   "metadata": {},
   "source": [
    "## Pros vs Cons"
   ]
  },
  {
   "cell_type": "markdown",
   "metadata": {},
   "source": [
    "**Pros**\n",
    "\n",
    "- Since SHAP computes shapley values, all the advantages of Shapley values apply:\n",
    "    - SHAP has a solid theoretical foundation in game theory\n",
    "    - the prediction is fairly distributed among the feature values\n",
    "    - we get contrastive explanations that compare the prediction with the average prediction\n",
    "    \n",
    "- SHAP connects LIME and Shapley values\n",
    "    - useful to understand both methods\n",
    "    \n",
    "- SHAP has a fast implementation for tree-based models\n",
    "    - key to the popularity of SHAP because the biggest barrier for adoption of Shapley values is the slow computation\n",
    "    \n",
    "- the fast computation makes it possible to compute the many Shapley values needed for the global model interpretations\n",
    "    - the global interpretation methods include feature importance, interactions, clustering, summary plots, etc\n",
    "    - with SHAP, global interpretations are consistent with the local explanations, since the Shapley values are the atomic unit of the global interpretations\n",
    "    - if we use LIME for local explanations and partial dependence plots + permutation feature importance for global explanations, we lack a common foundation"
   ]
  },
  {
   "cell_type": "markdown",
   "metadata": {},
   "source": [
    "**Cons**\n",
    "\n",
    "- Kernel SHAP is slow \n",
    "    - this makes kernel SHAP impractical to use when you want to compute Shapley values for many instances\n",
    "    - all global SHAP methods such as SHAP feature importance require computing Shapley values for a lot of instances\n",
    "    \n",
    "- Kernel SHAP ignores feature dependence\n",
    "    - Most other permutation based interpretation methods have this problem. By replacing feature values with values from random instances, it is usually easier to randomly sample from the marginal distribution. However, if features are dependent, e.g. correlated, this leads to putting too much weight on unlikely data points. TreeSHAP solves this problem by explicitly modeling the conditional expected prediction\n",
    "    \n",
    "- TreeSHAP can produce unintuitive feature attributions\n",
    "    - While TreeSHAP solves the problem of extrapolating to unlikely data points, it does so by changing the value function and therefore slightly changes the game. TreeSHAP changes the value function by relying on the conditional expected prediction. With the change in the value function, features that have no influence on the prediction can get a TreeSHAP value different from zero\n",
    "\n",
    "- The disadvantages of Shapley values also apply to SHAP: Shapley values can be misinterpreted and access to data is needed to compute them for new data (except for TreeSHAP)"
   ]
  },
  {
   "cell_type": "markdown",
   "metadata": {},
   "source": [
    "## ELI5\n",
    "\n",
    "- a python lib that allows to visualize and debug various ML models using unified API\n",
    "- it has built-in support for several ML frameworks and provides a way to explain white-box models (linear reg, decision trees)\n",
    "    - it supports both global and local interpretability\n",
    "    and black-box models (kers, xgboost, lightGBM)\n",
    "     - supports only global interpretability\n",
    "- the weights provided tell us how much of an impact a feature has on the predictions on average, the sign tells us in which direction"
   ]
  },
  {
   "cell_type": "markdown",
   "metadata": {},
   "source": [
    "### Global interpretability\n",
    "\n",
    "- Permutation models are used to get global interpretability\n",
    "- as output it gives values similar to feature importance that you get with algorithms by default, this shows relative importance among features\n",
    "- Concept\n",
    "    - for each feature\n",
    "        - shuffle values in the provided dataset\n",
    "        - generate predictions using the model on the modified dataset\n",
    "        - compute the decrease in accuracy vs before shuffling\n",
    "    - compare the impact on accuracy of shuffling each feature individually\n",
    "    - a feature is important if shuffling its values increases the model error because the model relied on the feature for the rpediction\n",
    "    - unimportant if shuffling its values leaves the model error unchanged, because in this case the model ignored the feature for the prediction"
   ]
  },
  {
   "cell_type": "markdown",
   "metadata": {},
   "source": [
    "### LIME - Local Interpretable Model-Agnostic Explanations\n",
    "\n",
    "- For local model interpretation, ELI5 use LIME\n",
    "- Local fidelity - features that are globally important may not be important in the local context, and vice versa\n",
    "    - it could be the case that only a handful of variables directly relate to a local prediction, even if a model has hundreds of variables globally\n",
    "- That’s why they named this technique Local Interpretable Model-Agnostic Explanations (LIME) — It should be locally interpretable and able to explain any models\n",
    "\n",
    "- LIME like SHAP doesn't provide causality\n",
    "\n",
    "**How is LIME different from SHAP**\n",
    "- SHAP is built on the Shapley value, which is the average of the marginal contributions across all permutations \n",
    "- the Shapley values consider all possible permutations, thus SHAP is a united approach that provides global and local consistency and interpretability\n",
    "- however, its cost is time - it has to compute all permutations in order to give the results\n",
    "- In contrast, LIME builds sparse linear models around an individual prediction in its local vicinity\n",
    "- the advantage of LIME is speed \n",
    "- the SHAP python module doesn't work with all algorithms\n",
    "\n",
    "**How does LIME work**\n",
    "\n",
    "<img src=\"images/lime.png\" width=\"500\" />\n",
    "\n",
    "- the original complex model is represented by the blue/pink background - not linear obviously\n",
    "- the red cross is the individual prediction to be explained\n",
    "- LIME does the following\n",
    "    - generates other samples then gets their predictions using the original model\n",
    "    - weighting these new samples by the proximity to the instance being explained \n",
    "    - then it builds linear regression for these newly created samples including the red cross\n",
    "    - the dashed line is the learned explanation that is locally (not globally) faithful"
   ]
  }
 ],
 "metadata": {
  "kernelspec": {
   "display_name": "Python [conda env:analytics]",
   "language": "python",
   "name": "conda-env-analytics-py"
  },
  "language_info": {
   "codemirror_mode": {
    "name": "ipython",
    "version": 3
   },
   "file_extension": ".py",
   "mimetype": "text/x-python",
   "name": "python",
   "nbconvert_exporter": "python",
   "pygments_lexer": "ipython3",
   "version": "3.8.6"
  }
 },
 "nbformat": 4,
 "nbformat_minor": 4
}
